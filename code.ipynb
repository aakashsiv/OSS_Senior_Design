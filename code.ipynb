{
 "cells": [
  {
   "cell_type": "code",
   "execution_count": 31,
   "metadata": {},
   "outputs": [],
   "source": [
    "import subprocess\n",
    "import os\n",
    "from selenium import webdriver\n",
    "from selenium.webdriver.common.keys import Keys\n",
    "from selenium.webdriver.chrome.options import Options\n",
    "import csv\n",
    "import random\n",
    "import time\n",
    "\n",
    "START_PAGE = 1\n",
    "END_PAGE = 20\n",
    "\n",
    "EMAIL = 'crunch64@yopmail.com'\n",
    "PWD = 'Tech2022@'\n"
   ]
  },
  {
   "cell_type": "code",
   "execution_count": 32,
   "metadata": {},
   "outputs": [],
   "source": [
    "groups_text = \"\"\"1. 10000-20000\n",
    "2. 20001-30000\n",
    "3. 30001-40000\n",
    "4. 40001-50000\n",
    "5. 50001-60000\n",
    "6. 60001-70000\n",
    "7. 70001-90000\n",
    "8. 90001-100000\n",
    "9. 100001-150000\n",
    "10. 150001-200000\n",
    "11. 200001-250000\n",
    "12. 250001-300000\n",
    "13. 300001-350000\n",
    "14. 350001-400000\n",
    "15. 400001-450000\n",
    "16. 450001-500000\n",
    "17. 500001-550000\n",
    "18. 550001-600000\n",
    "19. 600001-650000\n",
    "20. 650001-700000\n",
    "21. 700001-750000\n",
    "22. 750001-800000\n",
    "23. 800001-900000\n",
    "24. 900001-1000000\n",
    "25. 1000001-1100000\n",
    "26. 1100001-1200000\n",
    "27. 1200001-1300000\n",
    "28. 1300001-1400000\n",
    "29. 1400001-1500000\n",
    "30. 1500001-1600000\"\"\".split(\"\\n\")"
   ]
  },
  {
   "cell_type": "code",
   "execution_count": 33,
   "metadata": {},
   "outputs": [
    {
     "data": {
      "text/plain": [
       "['1. 10000-20000',\n",
       " '2. 20001-30000',\n",
       " '3. 30001-40000',\n",
       " '4. 40001-50000',\n",
       " '5. 50001-60000',\n",
       " '6. 60001-70000',\n",
       " '7. 70001-90000',\n",
       " '8. 90001-100000',\n",
       " '9. 100001-150000',\n",
       " '10. 150001-200000',\n",
       " '11. 200001-250000',\n",
       " '12. 250001-300000',\n",
       " '13. 300001-350000',\n",
       " '14. 350001-400000',\n",
       " '15. 400001-450000',\n",
       " '16. 450001-500000',\n",
       " '17. 500001-550000',\n",
       " '18. 550001-600000',\n",
       " '19. 600001-650000',\n",
       " '20. 650001-700000',\n",
       " '21. 700001-750000',\n",
       " '22. 750001-800000',\n",
       " '23. 800001-900000',\n",
       " '24. 900001-1000000',\n",
       " '25. 1000001-1100000',\n",
       " '26. 1100001-1200000',\n",
       " '27. 1200001-1300000',\n",
       " '28. 1300001-1400000',\n",
       " '29. 1400001-1500000',\n",
       " '30. 1500001-1600000']"
      ]
     },
     "execution_count": 33,
     "metadata": {},
     "output_type": "execute_result"
    }
   ],
   "source": [
    "groups_text"
   ]
  },
  {
   "cell_type": "code",
   "execution_count": 34,
   "metadata": {},
   "outputs": [
    {
     "data": {
      "text/plain": [
       "<subprocess.Popen at 0x7ff5f0e2a1c0>"
      ]
     },
     "execution_count": 34,
     "metadata": {},
     "output_type": "execute_result"
    }
   ],
   "source": [
    "subprocess.Popen([\"/Applications/Google Chrome.app/Contents/MacOS/Google Chrome\", \"--remote-debugging-port=9222\"])"
   ]
  },
  {
   "cell_type": "code",
   "execution_count": 35,
   "metadata": {},
   "outputs": [],
   "source": [
    "chrome_options = Options()\n",
    "chrome_options.add_experimental_option(\"debuggerAddress\", \"127.0.0.1:9222\")\n",
    "driver = webdriver.Chrome(options=chrome_options)"
   ]
  },
  {
   "cell_type": "code",
   "execution_count": 36,
   "metadata": {},
   "outputs": [],
   "source": [
    "def login():\n",
    "    driver.get(\"https://www.crunchbase.com\")\n",
    "    driver.get(\"https://www.crunchbase.com/login\")\n",
    "    input1 = driver.find_element_by_xpath('//*[@id=\"mat-input-1\"]')\n",
    "    input1.clear()\n",
    "    input1.send_keys(EMAIL)\n",
    "    time.sleep(2)\n",
    "    input2 = driver.find_element_by_xpath('//*[@id=\"mat-input-2\"]')\n",
    "    input2.clear()\n",
    "    input2.send_keys(PWD)\n",
    "    time.sleep(2)\n",
    "    btn = driver.find_element_by_xpath('//*[@id=\"mat-tab-content-0-0\"]/div/login/form/button')\n",
    "    btn.click()\n",
    "\n",
    "    \n",
    "# try:\n",
    "#     login()\n",
    "# except Exception as e:\n",
    "#     pass\n",
    "\n",
    "def select_range(g):\n",
    "    group, r = g.split(\". \")\n",
    "    r1, r2 = r.split(\"-\")\n",
    "    return group, r1, r2"
   ]
  },
  {
   "cell_type": "code",
   "execution_count": 37,
   "metadata": {},
   "outputs": [],
   "source": [
    "# driver.get('https://crunchbase.com/discover/organization.companies/ab289089d547bc32643c8f63676c8af6')"
   ]
  },
  {
   "cell_type": "code",
   "execution_count": 38,
   "metadata": {},
   "outputs": [],
   "source": [
    "data = driver.find_elements_by_xpath('//*[@id=\"cdk-drop-list-0\"]/div/div/grid-body/div/grid-row/grid-cell/div/field-formatter')"
   ]
  },
  {
   "cell_type": "code",
   "execution_count": 39,
   "metadata": {},
   "outputs": [],
   "source": [
    "def download():\n",
    "    driver.find_element_by_xpath('/html/body/chrome/div/mat-sidenav-container/mat-sidenav-content/div/discover/page-layout/div/div/container-with-side-rail-drawer/div/div[2]/section/results/div/div/div[1]/div[2]/export-csv-button/button/span[1]/label-with-icon/span').click()\n",
    "    time.sleep(10)\n",
    "    driver.find_element_by_xpath('//*/confirmation-dialog/dialog-layout/div/mat-dialog-actions/div/button[2]/span[1]').click()"
   ]
  },
  {
   "cell_type": "code",
   "execution_count": 40,
   "metadata": {},
   "outputs": [],
   "source": [
    "# download()"
   ]
  },
  {
   "cell_type": "code",
   "execution_count": 41,
   "metadata": {},
   "outputs": [],
   "source": [
    "header = driver.find_elements_by_xpath('//*[@id=\"cdk-drop-list-0\"]/div/div/grid-header/grid-column-header')"
   ]
  },
  {
   "cell_type": "code",
   "execution_count": 42,
   "metadata": {},
   "outputs": [],
   "source": [
    "def save_current_page(group, page):\n",
    "    data = driver.find_elements_by_xpath('//*[@id=\"cdk-drop-list-0\"]/div/div/grid-body/div/grid-row/grid-cell/div/field-formatter')\n",
    "    header = driver.find_elements_by_xpath('//*[@id=\"cdk-drop-list-0\"]/div/div/grid-header/grid-column-header')\n",
    "    headers = [x.text for x in header[1:-1]]\n",
    "    tmp = [x.text for x in data]\n",
    "    with open(f\"{group}_{page}.csv\", \"w\") as f:\n",
    "        rows = []\n",
    "        writer = csv.writer(f)\n",
    "        writer.writerow(headers)\n",
    "        for i in range(len(data) // len(headers)):\n",
    "            rows.append(tmp[i * len(headers) : (i+1) * len(headers)])\n",
    "        writer.writerows(rows)"
   ]
  },
  {
   "cell_type": "code",
   "execution_count": 43,
   "metadata": {},
   "outputs": [],
   "source": [
    "def next_page():\n",
    "    driver.find_element_by_xpath('/html/body/chrome/div/mat-sidenav-container/mat-sidenav-content/div/discover/page-layout/div/div/container-with-side-rail-drawer/div/div[2]/section/results/div/div/div[1]/div[1]/results-info/div/a[2]/span[1]/div/span').click()"
   ]
  },
  {
   "cell_type": "code",
   "execution_count": 44,
   "metadata": {},
   "outputs": [],
   "source": [
    "# tmp = driver.find_element_by_xpath('//*[@id=\"mat-expansion-panel-header-3\"]/span/div/filter-group-header/mat-panel-title')\n",
    "# tmp.click()\n",
    "# time.sleep(3)\n",
    "def set_range(r1, r2):\n",
    "    print(f\"set range {r1}, {r2}\")\n",
    "    input1 = driver.find_element_by_xpath('//*[@id=\"mat-input-9\"]')\n",
    "    input2 = driver.find_element_by_xpath('//*[@id=\"mat-input-10\"]')\n",
    "    input3 = driver.find_element_by_xpath('//*[@id=\"mat-input-11\"]')\n",
    "    input1.clear()\n",
    "    time.sleep(1)\n",
    "    input1.send_keys(r1)\n",
    "    time.sleep(1)\n",
    "    input2.clear()\n",
    "    time.sleep(1)\n",
    "    input2.send_keys(r2)\n",
    "    time.sleep(1)\n",
    "    input3.click()\n",
    "    time.sleep(1)\n",
    "    print(f\"set range {r1}, {r2} over\")"
   ]
  },
  {
   "cell_type": "code",
   "execution_count": 45,
   "metadata": {},
   "outputs": [
    {
     "name": "stdout",
     "output_type": "stream",
     "text": [
      "7 70001 90000\n",
      "set range 70001, 90000\n",
      "set range 70001, 90000 over\n",
      "8 90001 100000\n",
      "set range 90001, 100000\n",
      "set range 90001, 100000 over\n",
      "9 100001 150000\n",
      "set range 100001, 150000\n",
      "set range 100001, 150000 over\n",
      "10 150001 200000\n",
      "set range 150001, 200000\n",
      "set range 150001, 200000 over\n",
      "11 200001 250000\n",
      "set range 200001, 250000\n",
      "set range 200001, 250000 over\n",
      "12 250001 300000\n",
      "set range 250001, 300000\n",
      "set range 250001, 300000 over\n",
      "13 300001 350000\n",
      "set range 300001, 350000\n",
      "set range 300001, 350000 over\n",
      "14 350001 400000\n",
      "set range 350001, 400000\n",
      "set range 350001, 400000 over\n",
      "15 400001 450000\n",
      "set range 400001, 450000\n",
      "set range 400001, 450000 over\n",
      "16 450001 500000\n",
      "set range 450001, 500000\n",
      "set range 450001, 500000 over\n",
      "17 500001 550000\n",
      "set range 500001, 550000\n",
      "set range 500001, 550000 over\n",
      "18 550001 600000\n",
      "set range 550001, 600000\n",
      "set range 550001, 600000 over\n",
      "19 600001 650000\n",
      "set range 600001, 650000\n",
      "set range 600001, 650000 over\n",
      "20 650001 700000\n",
      "set range 650001, 700000\n",
      "set range 650001, 700000 over\n",
      "21 700001 750000\n",
      "set range 700001, 750000\n",
      "set range 700001, 750000 over\n",
      "22 750001 800000\n",
      "set range 750001, 800000\n",
      "set range 750001, 800000 over\n",
      "23 800001 900000\n",
      "set range 800001, 900000\n",
      "set range 800001, 900000 over\n",
      "24 900001 1000000\n",
      "set range 900001, 1000000\n",
      "set range 900001, 1000000 over\n",
      "25 1000001 1100000\n",
      "set range 1000001, 1100000\n",
      "set range 1000001, 1100000 over\n",
      "26 1100001 1200000\n",
      "set range 1100001, 1200000\n",
      "set range 1100001, 1200000 over\n",
      "27 1200001 1300000\n",
      "set range 1200001, 1300000\n",
      "set range 1200001, 1300000 over\n",
      "28 1300001 1400000\n",
      "set range 1300001, 1400000\n",
      "set range 1300001, 1400000 over\n",
      "29 1400001 1500000\n",
      "set range 1400001, 1500000\n",
      "set range 1400001, 1500000 over\n",
      "30 1500001 1600000\n",
      "set range 1500001, 1600000\n",
      "set range 1500001, 1600000 over\n"
     ]
    }
   ],
   "source": [
    "\n",
    "for g in groups_text:\n",
    "    group, r1, r2 = select_range(g)\n",
    "    print(group, r1, r2)\n",
    "    set_range(r1, r2)\n",
    "\n",
    "    download()\n",
    "    time.sleep(5)\n",
    "#     for _ in range(START_PAGE-1):\n",
    "#         try:\n",
    "#             next_page()\n",
    "#         except Exception as se:\n",
    "#             print(e)\n",
    "#         finally:\n",
    "#             print(\"sleep...\")\n",
    "#             time.sleep(random.randint(2, 10))\n",
    "\n",
    "\n",
    "#     for page in range(START_PAGE, END_PAGE+1):\n",
    "#         try:\n",
    "#             print(f\"check group {group} page {page}\")\n",
    "#             save_current_page(group, page)\n",
    "#             next_page()\n",
    "#         except Exception as e:\n",
    "#             print(e)\n",
    "#         finally:\n",
    "#             print(\"sleep...\")\n",
    "#             time.sleep(random.randint(2, 10))"
   ]
  },
  {
   "cell_type": "code",
   "execution_count": null,
   "metadata": {},
   "outputs": [],
   "source": []
  }
 ],
 "metadata": {
  "kernelspec": {
   "display_name": "Python 3",
   "language": "python",
   "name": "python3"
  },
  "language_info": {
   "codemirror_mode": {
    "name": "ipython",
    "version": 3
   },
   "file_extension": ".py",
   "mimetype": "text/x-python",
   "name": "python",
   "nbconvert_exporter": "python",
   "pygments_lexer": "ipython3",
   "version": "3.8.5"
  }
 },
 "nbformat": 4,
 "nbformat_minor": 4
}
